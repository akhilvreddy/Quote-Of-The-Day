{
  "nbformat": 4,
  "nbformat_minor": 0,
  "metadata": {
    "colab": {
      "provenance": []
    },
    "kernelspec": {
      "name": "python3",
      "display_name": "Python 3"
    },
    "language_info": {
      "name": "python"
    }
  },
  "cells": [
    {
      "cell_type": "code",
      "source": [
        "import pandas as pd\n",
        "import tensorflow as tf\n",
        "\n",
        "df = pd.read_csv('/content/sample_data/profanity.csv')\n",
        "df = df[['sentence', 'label']]\n",
        "df = df.dropna()"
      ],
      "metadata": {
        "id": "Cl7V-gEzg3Fy"
      },
      "execution_count": 13,
      "outputs": []
    },
    {
      "cell_type": "code",
      "source": [
        "from google.colab import drive\n",
        "drive.mount('/content/drive')"
      ],
      "metadata": {
        "colab": {
          "base_uri": "https://localhost:8080/"
        },
        "id": "wV6DcqZ63L9c",
        "outputId": "76734f6b-f459-47a2-8629-9df13d46591e"
      },
      "execution_count": 14,
      "outputs": [
        {
          "output_type": "stream",
          "name": "stdout",
          "text": [
            "Drive already mounted at /content/drive; to attempt to forcibly remount, call drive.mount(\"/content/drive\", force_remount=True).\n"
          ]
        }
      ]
    },
    {
      "cell_type": "code",
      "source": [
        "shuffled_df = df.sample(frac=1, random_state=42).reset_index(drop=True)"
      ],
      "metadata": {
        "id": "uAINAX6bZEl0"
      },
      "execution_count": 15,
      "outputs": []
    },
    {
      "cell_type": "code",
      "source": [
        "from sklearn.model_selection import train_test_split\n",
        "import numpy as np\n",
        "x = df['sentence'].to_list()\n",
        "y = df['label'].to_list()\n",
        "\n",
        "x_train, x_test, y_train, y_test = train_test_split(x,y, test_size=.1, random_state=42)\n",
        "x_train, x_val, y_train, y_val = train_test_split(x_train, y_train, test_size=.2, random_state=42)\n"
      ],
      "metadata": {
        "id": "ew5qjluWrDQB"
      },
      "execution_count": 16,
      "outputs": []
    },
    {
      "cell_type": "code",
      "source": [
        "import tensorflow_hub as hub\n",
        "from tensorflow.keras.layers import TextVectorization\n",
        "max_vocab = 10000\n",
        "max_length = 20\n",
        "\n",
        "text_vectorizer = TextVectorization(max_tokens=max_vocab,\n",
        "                                    output_mode=\"int\",\n",
        "                                    output_sequence_length=max_length)\n",
        "text_vectorizer.adapt(x_train)"
      ],
      "metadata": {
        "id": "aqUhXHbIsNsB"
      },
      "execution_count": 17,
      "outputs": []
    },
    {
      "cell_type": "code",
      "source": [
        "class CustomTextVectorization(tf.keras.layers.Layer):\n",
        "    def __init__(self, max_tokens, output_sequence_length, **kwargs):\n",
        "        super(CustomTextVectorization, self).__init__(**kwargs)\n",
        "        self.max_tokens = max_tokens\n",
        "        self.output_sequence_length = output_sequence_length\n",
        "        self.text_vectorizer = tf.keras.layers.TextVectorization(\n",
        "            max_tokens=max_tokens,\n",
        "            output_mode=\"int\",\n",
        "            output_sequence_length=output_sequence_length,\n",
        "        )\n",
        "\n",
        "    def call(self, inputs):\n",
        "        return self.text_vectorizer(inputs)\n",
        "\n",
        "custom_text_vectorizer = CustomTextVectorization(max_tokens=max_vocab, output_sequence_length=max_length)"
      ],
      "metadata": {
        "id": "aA0-QxZPxZ7t"
      },
      "execution_count": 18,
      "outputs": []
    },
    {
      "cell_type": "code",
      "source": [
        "from tensorflow.keras import layers\n",
        "Embedder = layers.Embedding(input_dim=max_vocab,\n",
        "                                     output_dim=20,\n",
        "                                     embeddings_initializer=\"uniform\",\n",
        "                                     input_length=max_length,\n",
        "                                     name=\"embedding\")\n"
      ],
      "metadata": {
        "id": "MqU1wosPy_AH"
      },
      "execution_count": 19,
      "outputs": []
    },
    {
      "cell_type": "code",
      "source": [
        "from tensorflow.keras import layers\n",
        "\n",
        "inputs = layers.Input(shape=(1,), dtype=\"string\")\n",
        "x = text_vectorizer(inputs)\n",
        "x = Embedder(x)\n",
        "x = layers.Bidirectional(layers.LSTM(64))(x)\n",
        "outputs = layers.Dense(1, activation=\"sigmoid\")(x)\n",
        "model = tf.keras.Model(inputs, outputs, name=\"Model\")"
      ],
      "metadata": {
        "id": "_mmKHDavwEuW"
      },
      "execution_count": 20,
      "outputs": []
    },
    {
      "cell_type": "code",
      "source": [
        "model.compile(loss=\"binary_crossentropy\",\n",
        "                optimizer=tf.keras.optimizers.Adam(),\n",
        "                metrics=[\"accuracy\"])\n",
        "\n",
        "\n",
        "model_history = model.fit(x_train, y_train, epochs=100, validation_data=(x_val, y_val))"
      ],
      "metadata": {
        "colab": {
          "base_uri": "https://localhost:8080/"
        },
        "id": "SM8yXxOSyd4j",
        "outputId": "da9f90ba-2b77-4830-9b87-2f66b79710c6"
      },
      "execution_count": 21,
      "outputs": [
        {
          "output_type": "stream",
          "name": "stdout",
          "text": [
            "Epoch 1/100\n",
            "5/5 [==============================] - 7s 254ms/step - loss: 0.6923 - accuracy: 0.5775 - val_loss: 0.6916 - val_accuracy: 0.5278\n",
            "Epoch 2/100\n",
            "5/5 [==============================] - 0s 37ms/step - loss: 0.6872 - accuracy: 0.6056 - val_loss: 0.6906 - val_accuracy: 0.4167\n",
            "Epoch 3/100\n",
            "5/5 [==============================] - 0s 41ms/step - loss: 0.6781 - accuracy: 0.6690 - val_loss: 0.6804 - val_accuracy: 0.6667\n",
            "Epoch 4/100\n",
            "5/5 [==============================] - 0s 36ms/step - loss: 0.6617 - accuracy: 0.8380 - val_loss: 0.6629 - val_accuracy: 0.7500\n",
            "Epoch 5/100\n",
            "5/5 [==============================] - 0s 39ms/step - loss: 0.6222 - accuracy: 0.8662 - val_loss: 0.6233 - val_accuracy: 0.7500\n",
            "Epoch 6/100\n",
            "5/5 [==============================] - 0s 36ms/step - loss: 0.5240 - accuracy: 0.9085 - val_loss: 0.4655 - val_accuracy: 0.8889\n",
            "Epoch 7/100\n",
            "5/5 [==============================] - 0s 41ms/step - loss: 0.2940 - accuracy: 0.9437 - val_loss: 0.2539 - val_accuracy: 0.9444\n",
            "Epoch 8/100\n",
            "5/5 [==============================] - 0s 37ms/step - loss: 0.1218 - accuracy: 0.9577 - val_loss: 0.1748 - val_accuracy: 0.9444\n",
            "Epoch 9/100\n",
            "5/5 [==============================] - 0s 39ms/step - loss: 0.0640 - accuracy: 0.9859 - val_loss: 0.1909 - val_accuracy: 0.9444\n",
            "Epoch 10/100\n",
            "5/5 [==============================] - 0s 37ms/step - loss: 0.0386 - accuracy: 0.9930 - val_loss: 0.2126 - val_accuracy: 0.9444\n",
            "Epoch 11/100\n",
            "5/5 [==============================] - 0s 39ms/step - loss: 0.0143 - accuracy: 1.0000 - val_loss: 0.2147 - val_accuracy: 0.9444\n",
            "Epoch 12/100\n",
            "5/5 [==============================] - 0s 40ms/step - loss: 0.0088 - accuracy: 1.0000 - val_loss: 0.2172 - val_accuracy: 0.9444\n",
            "Epoch 13/100\n",
            "5/5 [==============================] - 0s 44ms/step - loss: 0.0076 - accuracy: 1.0000 - val_loss: 0.2224 - val_accuracy: 0.9444\n",
            "Epoch 14/100\n",
            "5/5 [==============================] - 0s 33ms/step - loss: 0.0064 - accuracy: 1.0000 - val_loss: 0.2256 - val_accuracy: 0.9444\n",
            "Epoch 15/100\n",
            "5/5 [==============================] - 0s 37ms/step - loss: 0.0050 - accuracy: 1.0000 - val_loss: 0.2282 - val_accuracy: 0.9444\n",
            "Epoch 16/100\n",
            "5/5 [==============================] - 0s 37ms/step - loss: 0.0044 - accuracy: 1.0000 - val_loss: 0.2309 - val_accuracy: 0.9444\n",
            "Epoch 17/100\n",
            "5/5 [==============================] - 0s 38ms/step - loss: 0.0037 - accuracy: 1.0000 - val_loss: 0.2338 - val_accuracy: 0.9444\n",
            "Epoch 18/100\n",
            "5/5 [==============================] - 0s 41ms/step - loss: 0.0034 - accuracy: 1.0000 - val_loss: 0.2363 - val_accuracy: 0.9444\n",
            "Epoch 19/100\n",
            "5/5 [==============================] - 0s 42ms/step - loss: 0.0030 - accuracy: 1.0000 - val_loss: 0.2372 - val_accuracy: 0.9444\n",
            "Epoch 20/100\n",
            "5/5 [==============================] - 0s 40ms/step - loss: 0.0027 - accuracy: 1.0000 - val_loss: 0.2385 - val_accuracy: 0.9444\n",
            "Epoch 21/100\n",
            "5/5 [==============================] - 0s 35ms/step - loss: 0.0024 - accuracy: 1.0000 - val_loss: 0.2408 - val_accuracy: 0.9444\n",
            "Epoch 22/100\n",
            "5/5 [==============================] - 0s 43ms/step - loss: 0.0022 - accuracy: 1.0000 - val_loss: 0.2422 - val_accuracy: 0.9444\n",
            "Epoch 23/100\n",
            "5/5 [==============================] - 0s 37ms/step - loss: 0.0020 - accuracy: 1.0000 - val_loss: 0.2434 - val_accuracy: 0.9444\n",
            "Epoch 24/100\n",
            "5/5 [==============================] - 0s 43ms/step - loss: 0.0019 - accuracy: 1.0000 - val_loss: 0.2439 - val_accuracy: 0.9444\n",
            "Epoch 25/100\n",
            "5/5 [==============================] - 0s 39ms/step - loss: 0.0017 - accuracy: 1.0000 - val_loss: 0.2451 - val_accuracy: 0.9444\n",
            "Epoch 26/100\n",
            "5/5 [==============================] - 0s 35ms/step - loss: 0.0016 - accuracy: 1.0000 - val_loss: 0.2466 - val_accuracy: 0.9444\n",
            "Epoch 27/100\n",
            "5/5 [==============================] - 0s 35ms/step - loss: 0.0015 - accuracy: 1.0000 - val_loss: 0.2470 - val_accuracy: 0.9444\n",
            "Epoch 28/100\n",
            "5/5 [==============================] - 0s 37ms/step - loss: 0.0014 - accuracy: 1.0000 - val_loss: 0.2479 - val_accuracy: 0.9444\n",
            "Epoch 29/100\n",
            "5/5 [==============================] - 0s 36ms/step - loss: 0.0013 - accuracy: 1.0000 - val_loss: 0.2495 - val_accuracy: 0.9444\n",
            "Epoch 30/100\n",
            "5/5 [==============================] - 0s 41ms/step - loss: 0.0012 - accuracy: 1.0000 - val_loss: 0.2499 - val_accuracy: 0.9444\n",
            "Epoch 31/100\n",
            "5/5 [==============================] - 0s 35ms/step - loss: 0.0011 - accuracy: 1.0000 - val_loss: 0.2497 - val_accuracy: 0.9444\n",
            "Epoch 32/100\n",
            "5/5 [==============================] - 0s 40ms/step - loss: 0.0011 - accuracy: 1.0000 - val_loss: 0.2511 - val_accuracy: 0.9444\n",
            "Epoch 33/100\n",
            "5/5 [==============================] - 0s 37ms/step - loss: 9.9328e-04 - accuracy: 1.0000 - val_loss: 0.2519 - val_accuracy: 0.9444\n",
            "Epoch 34/100\n",
            "5/5 [==============================] - 0s 45ms/step - loss: 9.3952e-04 - accuracy: 1.0000 - val_loss: 0.2522 - val_accuracy: 0.9444\n",
            "Epoch 35/100\n",
            "5/5 [==============================] - 0s 35ms/step - loss: 9.0943e-04 - accuracy: 1.0000 - val_loss: 0.2526 - val_accuracy: 0.9444\n",
            "Epoch 36/100\n",
            "5/5 [==============================] - 0s 39ms/step - loss: 8.4329e-04 - accuracy: 1.0000 - val_loss: 0.2520 - val_accuracy: 0.9444\n",
            "Epoch 37/100\n",
            "5/5 [==============================] - 0s 50ms/step - loss: 8.0759e-04 - accuracy: 1.0000 - val_loss: 0.2546 - val_accuracy: 0.9444\n",
            "Epoch 38/100\n",
            "5/5 [==============================] - 0s 69ms/step - loss: 7.7789e-04 - accuracy: 1.0000 - val_loss: 0.2544 - val_accuracy: 0.9444\n",
            "Epoch 39/100\n",
            "5/5 [==============================] - 0s 70ms/step - loss: 7.6789e-04 - accuracy: 1.0000 - val_loss: 0.2539 - val_accuracy: 0.9444\n",
            "Epoch 40/100\n",
            "5/5 [==============================] - 0s 64ms/step - loss: 6.8444e-04 - accuracy: 1.0000 - val_loss: 0.2570 - val_accuracy: 0.9444\n",
            "Epoch 41/100\n",
            "5/5 [==============================] - 0s 63ms/step - loss: 6.7175e-04 - accuracy: 1.0000 - val_loss: 0.2547 - val_accuracy: 0.9444\n",
            "Epoch 42/100\n",
            "5/5 [==============================] - 0s 60ms/step - loss: 8.5452e-04 - accuracy: 1.0000 - val_loss: 0.2555 - val_accuracy: 0.9444\n",
            "Epoch 43/100\n",
            "5/5 [==============================] - 0s 66ms/step - loss: 7.4573e-04 - accuracy: 1.0000 - val_loss: 0.2590 - val_accuracy: 0.9444\n",
            "Epoch 44/100\n",
            "5/5 [==============================] - 0s 61ms/step - loss: 6.2251e-04 - accuracy: 1.0000 - val_loss: 0.2544 - val_accuracy: 0.9444\n",
            "Epoch 45/100\n",
            "5/5 [==============================] - 0s 39ms/step - loss: 5.9073e-04 - accuracy: 1.0000 - val_loss: 0.2583 - val_accuracy: 0.9444\n",
            "Epoch 46/100\n",
            "5/5 [==============================] - 0s 36ms/step - loss: 5.6400e-04 - accuracy: 1.0000 - val_loss: 0.2576 - val_accuracy: 0.9444\n",
            "Epoch 47/100\n",
            "5/5 [==============================] - 0s 41ms/step - loss: 5.0598e-04 - accuracy: 1.0000 - val_loss: 0.2586 - val_accuracy: 0.9444\n",
            "Epoch 48/100\n",
            "5/5 [==============================] - 0s 37ms/step - loss: 4.9763e-04 - accuracy: 1.0000 - val_loss: 0.2585 - val_accuracy: 0.9444\n",
            "Epoch 49/100\n",
            "5/5 [==============================] - 0s 36ms/step - loss: 4.8882e-04 - accuracy: 1.0000 - val_loss: 0.2581 - val_accuracy: 0.9444\n",
            "Epoch 50/100\n",
            "5/5 [==============================] - 0s 34ms/step - loss: 5.1360e-04 - accuracy: 1.0000 - val_loss: 0.2566 - val_accuracy: 0.9444\n",
            "Epoch 51/100\n",
            "5/5 [==============================] - 0s 38ms/step - loss: 4.4176e-04 - accuracy: 1.0000 - val_loss: 0.2613 - val_accuracy: 0.9444\n",
            "Epoch 52/100\n",
            "5/5 [==============================] - 0s 39ms/step - loss: 4.5930e-04 - accuracy: 1.0000 - val_loss: 0.2584 - val_accuracy: 0.9444\n",
            "Epoch 53/100\n",
            "5/5 [==============================] - 0s 38ms/step - loss: 4.4725e-04 - accuracy: 1.0000 - val_loss: 0.2582 - val_accuracy: 0.9444\n",
            "Epoch 54/100\n",
            "5/5 [==============================] - 0s 38ms/step - loss: 4.3396e-04 - accuracy: 1.0000 - val_loss: 0.2599 - val_accuracy: 0.9444\n",
            "Epoch 55/100\n",
            "5/5 [==============================] - 0s 42ms/step - loss: 4.3243e-04 - accuracy: 1.0000 - val_loss: 0.2566 - val_accuracy: 0.9444\n",
            "Epoch 56/100\n",
            "5/5 [==============================] - 0s 34ms/step - loss: 4.4390e-04 - accuracy: 1.0000 - val_loss: 0.2623 - val_accuracy: 0.9444\n",
            "Epoch 57/100\n",
            "5/5 [==============================] - 0s 45ms/step - loss: 3.8197e-04 - accuracy: 1.0000 - val_loss: 0.2587 - val_accuracy: 0.9444\n",
            "Epoch 58/100\n",
            "5/5 [==============================] - 0s 39ms/step - loss: 3.7098e-04 - accuracy: 1.0000 - val_loss: 0.2604 - val_accuracy: 0.9444\n",
            "Epoch 59/100\n",
            "5/5 [==============================] - 0s 43ms/step - loss: 3.4475e-04 - accuracy: 1.0000 - val_loss: 0.2616 - val_accuracy: 0.9444\n",
            "Epoch 60/100\n",
            "5/5 [==============================] - 0s 37ms/step - loss: 3.3042e-04 - accuracy: 1.0000 - val_loss: 0.2598 - val_accuracy: 0.9444\n",
            "Epoch 61/100\n",
            "5/5 [==============================] - 0s 42ms/step - loss: 3.1490e-04 - accuracy: 1.0000 - val_loss: 0.2610 - val_accuracy: 0.9444\n",
            "Epoch 62/100\n",
            "5/5 [==============================] - 0s 42ms/step - loss: 3.0761e-04 - accuracy: 1.0000 - val_loss: 0.2615 - val_accuracy: 0.9444\n",
            "Epoch 63/100\n",
            "5/5 [==============================] - 0s 39ms/step - loss: 2.9840e-04 - accuracy: 1.0000 - val_loss: 0.2593 - val_accuracy: 0.9444\n",
            "Epoch 64/100\n",
            "5/5 [==============================] - 0s 38ms/step - loss: 3.8436e-04 - accuracy: 1.0000 - val_loss: 0.2604 - val_accuracy: 0.9444\n",
            "Epoch 65/100\n",
            "5/5 [==============================] - 0s 38ms/step - loss: 3.3665e-04 - accuracy: 1.0000 - val_loss: 0.2623 - val_accuracy: 0.9444\n",
            "Epoch 66/100\n",
            "5/5 [==============================] - 0s 37ms/step - loss: 3.0694e-04 - accuracy: 1.0000 - val_loss: 0.2587 - val_accuracy: 0.9444\n",
            "Epoch 67/100\n",
            "5/5 [==============================] - 0s 35ms/step - loss: 3.0124e-04 - accuracy: 1.0000 - val_loss: 0.2631 - val_accuracy: 0.9444\n",
            "Epoch 68/100\n",
            "5/5 [==============================] - 0s 36ms/step - loss: 2.6489e-04 - accuracy: 1.0000 - val_loss: 0.2591 - val_accuracy: 0.9444\n",
            "Epoch 69/100\n",
            "5/5 [==============================] - 0s 43ms/step - loss: 2.6659e-04 - accuracy: 1.0000 - val_loss: 0.2632 - val_accuracy: 0.9444\n",
            "Epoch 70/100\n",
            "5/5 [==============================] - 0s 41ms/step - loss: 2.4915e-04 - accuracy: 1.0000 - val_loss: 0.2623 - val_accuracy: 0.9444\n",
            "Epoch 71/100\n",
            "5/5 [==============================] - 0s 40ms/step - loss: 2.4902e-04 - accuracy: 1.0000 - val_loss: 0.2613 - val_accuracy: 0.9444\n",
            "Epoch 72/100\n",
            "5/5 [==============================] - 0s 42ms/step - loss: 2.3591e-04 - accuracy: 1.0000 - val_loss: 0.2627 - val_accuracy: 0.9444\n",
            "Epoch 73/100\n",
            "5/5 [==============================] - 0s 46ms/step - loss: 2.3334e-04 - accuracy: 1.0000 - val_loss: 0.2612 - val_accuracy: 0.9444\n",
            "Epoch 74/100\n",
            "5/5 [==============================] - 0s 39ms/step - loss: 2.2597e-04 - accuracy: 1.0000 - val_loss: 0.2633 - val_accuracy: 0.9444\n",
            "Epoch 75/100\n",
            "5/5 [==============================] - 0s 35ms/step - loss: 2.2691e-04 - accuracy: 1.0000 - val_loss: 0.2609 - val_accuracy: 0.9444\n",
            "Epoch 76/100\n",
            "5/5 [==============================] - 0s 37ms/step - loss: 2.1013e-04 - accuracy: 1.0000 - val_loss: 0.2635 - val_accuracy: 0.9444\n",
            "Epoch 77/100\n",
            "5/5 [==============================] - 0s 49ms/step - loss: 2.1640e-04 - accuracy: 1.0000 - val_loss: 0.2627 - val_accuracy: 0.9444\n",
            "Epoch 78/100\n",
            "5/5 [==============================] - 0s 38ms/step - loss: 1.9830e-04 - accuracy: 1.0000 - val_loss: 0.2637 - val_accuracy: 0.9444\n",
            "Epoch 79/100\n",
            "5/5 [==============================] - 0s 38ms/step - loss: 1.9973e-04 - accuracy: 1.0000 - val_loss: 0.2629 - val_accuracy: 0.9444\n",
            "Epoch 80/100\n",
            "5/5 [==============================] - 0s 37ms/step - loss: 1.9912e-04 - accuracy: 1.0000 - val_loss: 0.2619 - val_accuracy: 0.9444\n",
            "Epoch 81/100\n",
            "5/5 [==============================] - 0s 34ms/step - loss: 2.1410e-04 - accuracy: 1.0000 - val_loss: 0.2631 - val_accuracy: 0.9444\n",
            "Epoch 82/100\n",
            "5/5 [==============================] - 0s 74ms/step - loss: 1.7707e-04 - accuracy: 1.0000 - val_loss: 0.2604 - val_accuracy: 0.9444\n",
            "Epoch 83/100\n",
            "5/5 [==============================] - 0s 61ms/step - loss: 1.9009e-04 - accuracy: 1.0000 - val_loss: 0.2631 - val_accuracy: 0.9444\n",
            "Epoch 84/100\n",
            "5/5 [==============================] - 0s 62ms/step - loss: 1.7983e-04 - accuracy: 1.0000 - val_loss: 0.2632 - val_accuracy: 0.9444\n",
            "Epoch 85/100\n",
            "5/5 [==============================] - 0s 58ms/step - loss: 1.8541e-04 - accuracy: 1.0000 - val_loss: 0.2620 - val_accuracy: 0.9444\n",
            "Epoch 86/100\n",
            "5/5 [==============================] - 0s 59ms/step - loss: 1.6633e-04 - accuracy: 1.0000 - val_loss: 0.2639 - val_accuracy: 0.9444\n",
            "Epoch 87/100\n",
            "5/5 [==============================] - 0s 58ms/step - loss: 1.7018e-04 - accuracy: 1.0000 - val_loss: 0.2627 - val_accuracy: 0.9444\n",
            "Epoch 88/100\n",
            "5/5 [==============================] - 0s 59ms/step - loss: 1.6207e-04 - accuracy: 1.0000 - val_loss: 0.2634 - val_accuracy: 0.9444\n",
            "Epoch 89/100\n",
            "5/5 [==============================] - 0s 65ms/step - loss: 1.5991e-04 - accuracy: 1.0000 - val_loss: 0.2629 - val_accuracy: 0.9444\n",
            "Epoch 90/100\n",
            "5/5 [==============================] - 0s 38ms/step - loss: 1.5931e-04 - accuracy: 1.0000 - val_loss: 0.2633 - val_accuracy: 0.9444\n",
            "Epoch 91/100\n",
            "5/5 [==============================] - 0s 38ms/step - loss: 1.5644e-04 - accuracy: 1.0000 - val_loss: 0.2629 - val_accuracy: 0.9444\n",
            "Epoch 92/100\n",
            "5/5 [==============================] - 0s 38ms/step - loss: 1.5148e-04 - accuracy: 1.0000 - val_loss: 0.2636 - val_accuracy: 0.9444\n",
            "Epoch 93/100\n",
            "5/5 [==============================] - 0s 34ms/step - loss: 1.4582e-04 - accuracy: 1.0000 - val_loss: 0.2645 - val_accuracy: 0.9444\n",
            "Epoch 94/100\n",
            "5/5 [==============================] - 0s 38ms/step - loss: 1.5857e-04 - accuracy: 1.0000 - val_loss: 0.2623 - val_accuracy: 0.9444\n",
            "Epoch 95/100\n",
            "5/5 [==============================] - 0s 41ms/step - loss: 1.5565e-04 - accuracy: 1.0000 - val_loss: 0.2638 - val_accuracy: 0.9444\n",
            "Epoch 96/100\n",
            "5/5 [==============================] - 0s 38ms/step - loss: 1.6366e-04 - accuracy: 1.0000 - val_loss: 0.2632 - val_accuracy: 0.9444\n",
            "Epoch 97/100\n",
            "5/5 [==============================] - 0s 34ms/step - loss: 1.4522e-04 - accuracy: 1.0000 - val_loss: 0.2616 - val_accuracy: 0.9444\n",
            "Epoch 98/100\n",
            "5/5 [==============================] - 0s 37ms/step - loss: 1.3340e-04 - accuracy: 1.0000 - val_loss: 0.2665 - val_accuracy: 0.9444\n",
            "Epoch 99/100\n",
            "5/5 [==============================] - 0s 36ms/step - loss: 1.5918e-04 - accuracy: 1.0000 - val_loss: 0.2601 - val_accuracy: 0.9444\n",
            "Epoch 100/100\n",
            "5/5 [==============================] - 0s 40ms/step - loss: 1.4640e-04 - accuracy: 1.0000 - val_loss: 0.2624 - val_accuracy: 0.9444\n"
          ]
        }
      ]
    },
    {
      "cell_type": "code",
      "source": [
        "def final_pred(quote):\n",
        "  val = model.predict([quote])\n",
        "  # Round\n",
        "  rounded = np.round(val)\n",
        "\n",
        "  # Convert to integer\n",
        "  a_int = rounded.astype(int)\n",
        "  return a_int[0][0]\n",
        "\n",
        "print(final_pred(['I love your mom']))"
      ],
      "metadata": {
        "colab": {
          "base_uri": "https://localhost:8080/"
        },
        "id": "xNcEvxyO8U70",
        "outputId": "50e13535-7f3f-4e81-dd40-c4313b726585"
      },
      "execution_count": 22,
      "outputs": [
        {
          "output_type": "stream",
          "name": "stdout",
          "text": [
            "1/1 [==============================] - 1s 824ms/step\n",
            "0\n"
          ]
        }
      ]
    },
    {
      "cell_type": "code",
      "source": [
        "model.save('hate_speech.tf')"
      ],
      "metadata": {
        "id": "0j5whJsFCMF3"
      },
      "execution_count": 23,
      "outputs": []
    }
  ]
}